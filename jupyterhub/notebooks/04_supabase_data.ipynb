{
 "cells": [
  {
   "cell_type": "markdown",
   "metadata": {},
   "source": ["# 04 - Supabase Data Operations\n\nWork with PostgreSQL database and Supabase Storage."]
  },
  {
   "cell_type": "code",
   "execution_count": null,
   "metadata": {},
   "outputs": [],
   "source": [
    "import os\n",
    "from dotenv import load_dotenv\n",
    "from sqlalchemy import create_engine, text\n",
    "from supabase import create_client\n",
    "import pandas as pd\n",
    "\n",
    "load_dotenv()\n",
    "engine = create_engine(os.getenv(\"DATABASE_URL\"))\n",
    "supabase = create_client(os.getenv(\"SUPABASE_URL\"), os.getenv(\"SUPABASE_ANON_KEY\"))"
   ]
  },
  {
   "cell_type": "markdown",
   "metadata": {},
   "source": ["## 1. Query PostgreSQL"]
  },
  {
   "cell_type": "code",
   "execution_count": null,
   "metadata": {},
   "outputs": [],
   "source": [
    "with engine.connect() as conn:\n",
    "    result = conn.execute(text(\"\"\"\n",
    "        SELECT schemaname, tablename \n",
    "        FROM pg_tables \n",
    "        WHERE schemaname = 'public'\n",
    "        LIMIT 10\n",
    "    \"\"\"))\n",
    "    df = pd.DataFrame(result.fetchall(), columns=result.keys())\n",
    "    display(df)"
   ]
  },
  {
   "cell_type": "markdown",
   "metadata": {},
   "source": ["## 2. Supabase Storage"]
  },
  {
   "cell_type": "code",
   "execution_count": null,
   "metadata": {},
   "outputs": [],
   "source": [
    "# List storage buckets\n",
    "buckets = supabase.storage.list_buckets()\n",
    "print(\"Storage Buckets:\")\n",
    "for bucket in buckets:\n",
    "    print(f\"  • {bucket.name} (created: {bucket.created_at})\")"
   ]
  },
  {
   "cell_type": "markdown",
   "metadata": {},
   "source": ["## 3. Database Version Info"]
  },
  {
   "cell_type": "code",
   "execution_count": null,
   "metadata": {},
   "outputs": [],
   "source": [
    "with engine.connect() as conn:\n",
    "    result = conn.execute(text(\"SELECT version()\"))\n",
    "    version = result.fetchone()[0]\n",
    "    print(f\"PostgreSQL Version:\\n{version}\")"
   ]
  }
 ],
 "metadata": {
  "kernelspec": {"display_name": "Python 3", "language": "python", "name": "python3"},
  "language_info": {"name": "python", "version": "3.11.0"}
 },
 "nbformat": 4,
 "nbformat_minor": 4
}
