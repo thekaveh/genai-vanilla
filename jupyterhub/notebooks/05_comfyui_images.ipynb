{
 "cells": [
  {
   "cell_type": "markdown",
   "metadata": {},
   "source": ["# 05 - ComfyUI Image Generation\n\nGenerate images using ComfyUI API."]
  },
  {
   "cell_type": "code",
   "execution_count": null,
   "metadata": {},
   "outputs": [],
   "source": [
    "import os\n",
    "from dotenv import load_dotenv\n",
    "import httpx\n",
    "\n",
    "load_dotenv()\n",
    "comfyui_url = os.getenv(\"COMFYUI_BASE_URL\")"
   ]
  },
  {
   "cell_type": "markdown",
   "metadata": {},
   "source": ["## 1. Check ComfyUI Status"]
  },
  {
   "cell_type": "code",
   "execution_count": null,
   "metadata": {},
   "outputs": [],
   "source": [
    "async with httpx.AsyncClient() as client:\n",
    "    response = await client.get(f\"{comfyui_url}/system_stats\")\n",
    "    stats = response.json()\n",
    "    print(f\"System Stats:\")\n",
    "    print(f\"  • Device: {stats.get('system', {}).get('os', 'Unknown')}\")\n",
    "    print(f\"  • Python: {stats.get('system', {}).get('python_version', 'Unknown')}\")"
   ]
  },
  {
   "cell_type": "markdown",
   "metadata": {},
   "source": ["## 2. List Available Models"]
  },
  {
   "cell_type": "code",
   "execution_count": null,
   "metadata": {},
   "outputs": [],
   "source": [
    "async with httpx.AsyncClient() as client:\n",
    "    response = await client.get(f\"{comfyui_url}/object_info\")\n",
    "    if response.status_code == 200:\n",
    "        print(\"✅ ComfyUI is ready for image generation\")\n",
    "    else:\n",
    "        print(f\"❌ ComfyUI returned status {response.status_code}\")"
   ]
  },
  {
   "cell_type": "markdown",
   "metadata": {},
   "source": ["## 3. Queue Information"]
  },
  {
   "cell_type": "code",
   "execution_count": null,
   "metadata": {},
   "outputs": [],
   "source": [
    "async with httpx.AsyncClient() as client:\n",
    "    response = await client.get(f\"{comfyui_url}/queue\")\n",
    "    queue = response.json()\n",
    "    print(f\"Queue Status:\")\n",
    "    print(f\"  • Running: {len(queue.get('queue_running', []))}\")\n",
    "    print(f\"  • Pending: {len(queue.get('queue_pending', []))}\")"
   ]
  },
  {
   "cell_type": "markdown",
   "metadata": {},
   "source": ["## Note\n\nFor full workflow execution, use ComfyUI's workflow API with JSON workflow definitions. See ComfyUI documentation for workflow format."]
  }
 ],
 "metadata": {
  "kernelspec": {"display_name": "Python 3", "language": "python", "name": "python3"},
  "language_info": {"name": "python", "version": "3.11.0"}
 },
 "nbformat": 4,
 "nbformat_minor": 4
}
