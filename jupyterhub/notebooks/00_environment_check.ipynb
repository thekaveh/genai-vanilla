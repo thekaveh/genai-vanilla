{
 "cells": [
  {
   "cell_type": "markdown",
   "metadata": {},
   "source": [
    "# 00 - Environment Check\n",
    "\n",
    "This notebook verifies that all GenAI Vanilla Stack services are accessible from JupyterHub.\n",
    "\n",
    "## Services Checked\n",
    "- Ollama (LLM)\n",
    "- Weaviate (Vector DB)\n",
    "- Neo4j (Graph DB)\n",
    "- PostgreSQL (Supabase)\n",
    "- Redis (Cache)\n",
    "- ComfyUI (Image Generation)\n",
    "- n8n (Workflows)\n",
    "- SearxNG (Search)\n",
    "- Backend API"
   ]
  },
  {
   "cell_type": "code",
   "execution_count": null,
   "metadata": {},
   "outputs": [],
   "source": [
    "import os\n",
    "import httpx\n",
    "from dotenv import load_dotenv\n",
    "\n",
    "# Load environment variables\n",
    "load_dotenv()\n",
    "\n",
    "print(\"🔍 GenAI Vanilla Stack - Environment Check\\n\")\n",
    "print(\"=\" * 60)"
   ]
  },
  {
   "cell_type": "markdown",
   "metadata": {},
   "source": [
    "## 1. Environment Variables"
   ]
  },
  {
   "cell_type": "code",
   "execution_count": null,
   "metadata": {},
   "outputs": [],
   "source": [
    "services = {\n",
    "    \"Ollama (LLM)\": os.getenv(\"OLLAMA_BASE_URL\"),\n",
    "    \"Weaviate (Vector DB)\": os.getenv(\"WEAVIATE_URL\"),\n",
    "    \"Neo4j (Graph DB)\": os.getenv(\"NEO4J_URI\"),\n",
    "    \"PostgreSQL (Database)\": os.getenv(\"DATABASE_URL\", \"not set\")[:30] + \"...\",\n",
    "    \"Redis (Cache)\": os.getenv(\"REDIS_URL\", \"not set\")[:30] + \"...\",\n",
    "    \"ComfyUI (Images)\": os.getenv(\"COMFYUI_BASE_URL\"),\n",
    "    \"Supabase (API Gateway)\": os.getenv(\"SUPABASE_URL\"),\n",
    "    \"n8n (Workflows)\": os.getenv(\"N8N_BASE_URL\"),\n",
    "    \"SearxNG (Search)\": os.getenv(\"SEARXNG_URL\"),\n",
    "    \"Backend API\": os.getenv(\"BACKEND_API_URL\"),\n",
    "}\n",
    "\n",
    "print(\"\\n📋 Environment Variables:\")\n",
    "print(\"-\" * 60)\n",
    "for name, url in services.items():\n",
    "    status = \"✅\" if url else \"❌\"\n",
    "    print(f\"{status} {name:30s} {url or 'NOT SET'}\")"
   ]
  },
  {
   "cell_type": "markdown",
   "metadata": {},
   "source": [
    "## 2. HTTP Service Connectivity"
   ]
  },
  {
   "cell_type": "code",
   "execution_count": null,
   "metadata": {},
   "outputs": [],
   "source": [
    "async def check_http_service(name, url, endpoint=\"/\"):\n",
    "    \"\"\"Check if an HTTP service is reachable.\"\"\"\n",
    "    try:\n",
    "        full_url = f\"{url.rstrip('/')}{endpoint}\"\n",
    "        async with httpx.AsyncClient(timeout=5.0) as client:\n",
    "            response = await client.get(full_url)\n",
    "            return True, response.status_code\n",
    "    except Exception as e:\n",
    "        return False, str(e)\n",
    "\n",
    "print(\"\\n🌐 HTTP Service Connectivity:\")\n",
    "print(\"-\" * 60)\n",
    "\n",
    "# Check Ollama\n",
    "import asyncio\n",
    "\n",
    "ollama_url = os.getenv(\"OLLAMA_BASE_URL\")\n",
    "if ollama_url:\n",
    "    success, result = await check_http_service(\"Ollama\", ollama_url, \"/api/tags\")\n",
    "    status = \"✅\" if success else \"❌\"\n",
    "    print(f\"{status} Ollama: {result}\")\n",
    "\n",
    "# Check Weaviate\n",
    "weaviate_url = os.getenv(\"WEAVIATE_URL\")\n",
    "if weaviate_url:\n",
    "    success, result = await check_http_service(\"Weaviate\", weaviate_url, \"/v1/.well-known/ready\")\n",
    "    status = \"✅\" if success else \"❌\"\n",
    "    print(f\"{status} Weaviate: {result}\")\n",
    "\n",
    "# Check ComfyUI\n",
    "comfyui_url = os.getenv(\"COMFYUI_BASE_URL\")\n",
    "if comfyui_url:\n",
    "    success, result = await check_http_service(\"ComfyUI\", comfyui_url, \"/system_stats\")\n",
    "    status = \"✅\" if success else \"❌\"\n",
    "    print(f\"{status} ComfyUI: {result}\")\n",
    "\n",
    "# Check Backend API\n",
    "backend_url = os.getenv(\"BACKEND_API_URL\")\n",
    "if backend_url:\n",
    "    success, result = await check_http_service(\"Backend\", backend_url, \"/health\")\n",
    "    status = \"✅\" if success else \"❌\"\n",
    "    print(f\"{status} Backend API: {result}\")"
   ]
  },
  {
   "cell_type": "markdown",
   "metadata": {},
   "source": [
    "## 3. Database Connectivity"
   ]
  },
  {
   "cell_type": "code",
   "execution_count": null,
   "metadata": {},
   "outputs": [],
   "source": [
    "print(\"\\n💾 Database Connectivity:\")\n",
    "print(\"-\" * 60)\n",
    "\n",
    "# Check PostgreSQL\n",
    "try:\n",
    "    from sqlalchemy import create_engine\n",
    "    db_url = os.getenv(\"DATABASE_URL\")\n",
    "    if db_url:\n",
    "        engine = create_engine(db_url)\n",
    "        with engine.connect() as conn:\n",
    "            result = conn.execute(\"SELECT version()\")\n",
    "            version = result.fetchone()[0]\n",
    "            print(f\"✅ PostgreSQL: Connected ({version[:30]}...)\")\n",
    "    else:\n",
    "        print(\"❌ PostgreSQL: DATABASE_URL not set\")\n",
    "except Exception as e:\n",
    "    print(f\"❌ PostgreSQL: {e}\")\n",
    "\n",
    "# Check Redis\n",
    "try:\n",
    "    import redis\n",
    "    redis_url = os.getenv(\"REDIS_URL\")\n",
    "    if redis_url:\n",
    "        r = redis.from_url(redis_url)\n",
    "        r.ping()\n",
    "        print(f\"✅ Redis: Connected\")\n",
    "    else:\n",
    "        print(\"❌ Redis: REDIS_URL not set\")\n",
    "except Exception as e:\n",
    "    print(f\"❌ Redis: {e}\")\n",
    "\n",
    "# Check Neo4j\n",
    "try:\n",
    "    from neo4j import GraphDatabase\n",
    "    neo4j_uri = os.getenv(\"NEO4J_URI\")\n",
    "    neo4j_user = os.getenv(\"NEO4J_USER\")\n",
    "    neo4j_pass = os.getenv(\"NEO4J_PASSWORD\")\n",
    "    \n",
    "    if neo4j_uri and neo4j_user and neo4j_pass:\n",
    "        driver = GraphDatabase.driver(neo4j_uri, auth=(neo4j_user, neo4j_pass))\n",
    "        driver.verify_connectivity()\n",
    "        print(f\"✅ Neo4j: Connected\")\n",
    "        driver.close()\n",
    "    else:\n",
    "        print(\"❌ Neo4j: Connection details not set\")\n",
    "except Exception as e:\n",
    "    print(f\"❌ Neo4j: {e}\")"
   ]
  },
  {
   "cell_type": "markdown",
   "metadata": {},
   "source": [
    "## 4. Summary\n",
    "\n",
    "All checks complete! If any services show as ❌, verify:\n",
    "1. Service is enabled in `.env` (not set to `disabled`)\n",
    "2. Service is running: `docker compose ps`\n",
    "3. Environment variables are correctly set\n",
    "\n",
    "## Next Steps\n",
    "\n",
    "- `01_ollama_basics.ipynb` - Learn how to use Ollama for LLM inference\n",
    "- `02_langchain_rag.ipynb` - Build a RAG pipeline with Weaviate\n",
    "- `03_neo4j_graphs.ipynb` - Work with knowledge graphs\n",
    "- `04_supabase_data.ipynb` - Database and storage operations\n",
    "- `05_comfyui_images.ipynb` - Generate images with AI\n",
    "- `06_n8n_workflows.ipynb` - Automate workflows"
   ]
  }
 ],
 "metadata": {
  "kernelspec": {
   "display_name": "Python 3",
   "language": "python",
   "name": "python3"
  },
  "language_info": {
   "name": "python",
   "version": "3.11.0"
  }
 },
 "nbformat": 4,
 "nbformat_minor": 4
}
