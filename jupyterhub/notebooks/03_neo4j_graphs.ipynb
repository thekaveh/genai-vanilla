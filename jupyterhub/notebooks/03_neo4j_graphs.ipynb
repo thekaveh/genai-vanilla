{
 "cells": [
  {
   "cell_type": "markdown",
   "metadata": {},
   "source": ["# 03 - Neo4j Knowledge Graphs\n\nWork with graph databases using Neo4j."]
  },
  {
   "cell_type": "code",
   "execution_count": null,
   "metadata": {},
   "outputs": [],
   "source": [
    "import os\n",
    "from dotenv import load_dotenv\n",
    "from neo4j import GraphDatabase\n",
    "import pandas as pd\n",
    "\n",
    "load_dotenv()\n",
    "driver = GraphDatabase.driver(\n",
    "    os.getenv(\"NEO4J_URI\"),\n",
    "    auth=(os.getenv(\"NEO4J_USER\"), os.getenv(\"NEO4J_PASSWORD\"))\n",
    ")"
   ]
  },
  {
   "cell_type": "markdown",
   "metadata": {},
   "source": ["## 1. Create Sample Graph"]
  },
  {
   "cell_type": "code",
   "execution_count": null,
   "metadata": {},
   "outputs": [],
   "source": [
    "with driver.session() as session:\n",
    "    session.run(\"\"\"\n",
    "        MERGE (stack:System {name: 'GenAI Vanilla Stack'})\n",
    "        MERGE (ollama:Service {name: 'Ollama', type: 'LLM'})\n",
    "        MERGE (weaviate:Service {name: 'Weaviate', type: 'VectorDB'})\n",
    "        MERGE (neo4j:Service {name: 'Neo4j', type: 'GraphDB'})\n",
    "        MERGE (jupyter:Service {name: 'JupyterHub', type: 'IDE'})\n",
    "        \n",
    "        MERGE (stack)-[:INCLUDES]->(ollama)\n",
    "        MERGE (stack)-[:INCLUDES]->(weaviate)\n",
    "        MERGE (stack)-[:INCLUDES]->(neo4j)\n",
    "        MERGE (stack)-[:INCLUDES]->(jupyter)\n",
    "        \n",
    "        MERGE (jupyter)-[:CONNECTS_TO]->(ollama)\n",
    "        MERGE (jupyter)-[:CONNECTS_TO]->(weaviate)\n",
    "        MERGE (jupyter)-[:CONNECTS_TO]->(neo4j)\n",
    "    \"\"\")\n",
    "print(\"✅ Graph created\")"
   ]
  },
  {
   "cell_type": "markdown",
   "metadata": {},
   "source": ["## 2. Query Graph"]
  },
  {
   "cell_type": "code",
   "execution_count": null,
   "metadata": {},
   "outputs": [],
   "source": [
    "with driver.session() as session:\n",
    "    result = session.run(\"\"\"\n",
    "        MATCH (jupyter:Service {name: 'JupyterHub'})-[:CONNECTS_TO]->(service)\n",
    "        RETURN service.name as name, service.type as type\n",
    "    \"\"\")\n",
    "    df = pd.DataFrame([record.data() for record in result])\n",
    "    display(df)"
   ]
  },
  {
   "cell_type": "markdown",
   "metadata": {},
   "source": ["## 3. Path Finding"]
  },
  {
   "cell_type": "code",
   "execution_count": null,
   "metadata": {},
   "outputs": [],
   "source": [
    "with driver.session() as session:\n",
    "    result = session.run(\"\"\"\n",
    "        MATCH path = (stack:System)-[*]-(service:Service {type: 'LLM'})\n",
    "        RETURN [node in nodes(path) | node.name] as path\n",
    "    \"\"\")\n",
    "    for record in result:\n",
    "        print(\" → \".join(record[\"path\"]))"
   ]
  }
 ],
 "metadata": {
  "kernelspec": {"display_name": "Python 3", "language": "python", "name": "python3"},
  "language_info": {"name": "python", "version": "3.11.0"}
 },
 "nbformat": 4,
 "nbformat_minor": 4
}
