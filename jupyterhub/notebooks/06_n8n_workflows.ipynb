{
 "cells": [
  {
   "cell_type": "markdown",
   "metadata": {},
   "source": ["# 06 - n8n Workflow Automation\n\nTrigger and monitor n8n workflows from Python."]
  },
  {
   "cell_type": "code",
   "execution_count": null,
   "metadata": {},
   "outputs": [],
   "source": [
    "import os\n",
    "from dotenv import load_dotenv\n",
    "import httpx\n",
    "\n",
    "load_dotenv()\n",
    "n8n_url = os.getenv(\"N8N_BASE_URL\")"
   ]
  },
  {
   "cell_type": "markdown",
   "metadata": {},
   "source": ["## 1. Check n8n Status"]
  },
  {
   "cell_type": "code",
   "execution_count": null,
   "metadata": {},
   "outputs": [],
   "source": [
    "async with httpx.AsyncClient() as client:\n",
    "    try:\n",
    "        response = await client.get(f\"{n8n_url}/healthz\")\n",
    "        if response.status_code == 200:\n",
    "            print(\"✅ n8n is running and healthy\")\n",
    "        else:\n",
    "            print(f\"⚠️ n8n returned status {response.status_code}\")\n",
    "    except Exception as e:\n",
    "        print(f\"❌ Cannot connect to n8n: {e}\")"
   ]
  },
  {
   "cell_type": "markdown",
   "metadata": {},
   "source": ["## 2. Webhook Example\n\nTo trigger n8n workflows, create a webhook node in n8n and use:"]
  },
  {
   "cell_type": "code",
   "execution_count": null,
   "metadata": {},
   "outputs": [],
   "source": [
    "# Example webhook trigger\n",
    "webhook_id = \"your-webhook-id\"  # Get from n8n webhook node\n",
    "webhook_url = f\"{n8n_url}/webhook/{webhook_id}\"\n",
    "\n",
    "payload = {\n",
    "    \"message\": \"Hello from JupyterHub\",\n",
    "    \"source\": \"notebook\"\n",
    "}\n",
    "\n",
    "print(f\"Webhook URL: {webhook_url}\")\n",
    "print(f\"Payload: {payload}\")\n",
    "print(\"\\nTo use: Replace webhook_id and uncomment the code below\")\n",
    "\n",
    "# async with httpx.AsyncClient() as client:\n",
    "#     response = await client.post(webhook_url, json=payload)\n",
    "#     print(f\"Response: {response.json()}\")"
   ]
  },
  {
   "cell_type": "markdown",
   "metadata": {},
   "source": ["## 3. Workflow Integration\n\nFor full n8n API access:\n1. Enable API in n8n settings\n2. Generate API key\n3. Use `httpx` with authentication headers\n\nSee n8n API docs: https://docs.n8n.io/api/"]
  }
 ],
 "metadata": {
  "kernelspec": {"display_name": "Python 3", "language": "python", "name": "python3"},
  "language_info": {"name": "python", "version": "3.11.0"}
 },
 "nbformat": 4,
 "nbformat_minor": 4
}
